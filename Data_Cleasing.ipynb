{
  "nbformat": 4,
  "nbformat_minor": 0,
  "metadata": {
    "colab": {
      "provenance": [],
      "gpuType": "T4"
    },
    "kernelspec": {
      "name": "python3",
      "display_name": "Python 3"
    },
    "language_info": {
      "name": "python"
    },
    "accelerator": "GPU"
  },
  "cells": [
    {
      "cell_type": "markdown",
      "source": [
        "Data Cleasing"
      ],
      "metadata": {
        "id": "kFUF9L7_OG4l"
      }
    },
    {
      "cell_type": "markdown",
      "source": [
        "Step 1: Handle missing values (say NA or NAN) using Pandas"
      ],
      "metadata": {
        "id": "255KQMAePtUX"
      }
    },
    {
      "cell_type": "code",
      "source": [
        "#import the pandas library\n",
        "import pandas as pd\n",
        "import numpy as np\n",
        "\n",
        "df = pd.DataFrame(np.random.randn(5, 3), index=['a', 'c','e', 'f', 'h'], columns =['one', 'two', 'three'])\n",
        "\n",
        "df = df.reindex([ 'a', 'b', 'c', 'd', 'e', 'f', 'g', 'h'])\n",
        "\n",
        "print(df)"
      ],
      "metadata": {
        "colab": {
          "base_uri": "https://localhost:8080/"
        },
        "id": "kl5_fwrrONPV",
        "outputId": "f6b4c477-751a-4e13-84a5-3b69481e6558"
      },
      "execution_count": null,
      "outputs": [
        {
          "output_type": "stream",
          "name": "stdout",
          "text": [
            "        one       two     three\n",
            "a -0.710835  0.273192  0.177848\n",
            "b       NaN       NaN       NaN\n",
            "c  1.317657 -0.705674  0.931030\n",
            "d       NaN       NaN       NaN\n",
            "e -0.704313 -0.486047 -0.803135\n",
            "f  0.607179  1.159336  0.806775\n",
            "g       NaN       NaN       NaN\n",
            "h -0.667846 -0.424706 -1.999616\n"
          ]
        }
      ]
    },
    {
      "cell_type": "markdown",
      "source": [
        "Step 2: Check for Missing Values"
      ],
      "metadata": {
        "id": "ynhH6QxQQJa0"
      }
    },
    {
      "cell_type": "code",
      "source": [
        "import pandas as pd\n",
        "import numpy as np\n",
        "\n",
        "df = pd.DataFrame(np.random.randn(5, 3), index=['a', 'c', 'e', 'f', 'h'], columns =['one', 'two', 'three'])\n",
        "\n",
        "df = df.reindex(['a', 'b', 'c', 'd', 'e', 'f', 'h' ])\n",
        "\n",
        "print(df['one'].isnull())"
      ],
      "metadata": {
        "colab": {
          "base_uri": "https://localhost:8080/"
        },
        "id": "aKb2rFzwQPXX",
        "outputId": "aa20f775-a03e-4588-fcf8-7e2a374f8c64"
      },
      "execution_count": null,
      "outputs": [
        {
          "output_type": "stream",
          "name": "stdout",
          "text": [
            "a    False\n",
            "b     True\n",
            "c    False\n",
            "d     True\n",
            "e    False\n",
            "f    False\n",
            "h    False\n",
            "Name: one, dtype: bool\n"
          ]
        }
      ]
    },
    {
      "cell_type": "markdown",
      "source": [
        "Step 3: Replace NaN with a Scalar Value: The following program shows how you can replace \"NaN\" with \"0\"."
      ],
      "metadata": {
        "id": "0sss0npsRvDT"
      }
    },
    {
      "cell_type": "code",
      "source": [
        "import pandas as pd\n",
        "import numpy as np\n",
        "df = pd.DataFrame(np.random.randn(3, 3), index=['a', 'c', 'e'], columns = ['one', 'two', 'three'])\n",
        "\n",
        "df = df.reindex(['a', 'b', 'c'])\n",
        "print(\"NaN replaced with '0': \")\n",
        "print(df.fillna(0))\n",
        "\n"
      ],
      "metadata": {
        "colab": {
          "base_uri": "https://localhost:8080/"
        },
        "id": "sI9UQfd0SARY",
        "outputId": "3b0f0ded-8e14-42ef-9d6b-3ac80138df5a"
      },
      "execution_count": null,
      "outputs": [
        {
          "output_type": "stream",
          "name": "stdout",
          "text": [
            "        one       two     three      four\n",
            "a -1.928886 -0.016205 -0.528905 -0.677917\n",
            "b       NaN       NaN       NaN       NaN\n",
            "c  0.277407 -1.845684  1.037039  0.373068\n",
            "NaN replaced with '0': \n",
            "        one       two     three      four\n",
            "a -1.928886 -0.016205 -0.528905 -0.677917\n",
            "b  0.000000  0.000000  0.000000  0.000000\n",
            "c  0.277407 -1.845684  1.037039  0.373068\n"
          ]
        }
      ]
    },
    {
      "cell_type": "markdown",
      "source": [
        "Step 4: Fill NA Forward and Backward"
      ],
      "metadata": {
        "id": "E56nfkekVjPk"
      }
    },
    {
      "cell_type": "code",
      "source": [
        "import pandas as pd\n",
        "import numpy as np\n",
        "\n",
        "df = pd.DataFrame(np.random.randn(5, 3), index = ['a', 'c', 'e', 'f', 'h'], columns= ['one', 'two', 'three'])\n",
        "df = df.reindex(['a', 'b', 'c', 'd','e', 'f', 'g', 'h'])\n",
        "\n",
        "print(df.fillna(method = 'pad'))\n"
      ],
      "metadata": {
        "colab": {
          "base_uri": "https://localhost:8080/"
        },
        "id": "Vgz6TjWEVpvD",
        "outputId": "0f0f350d-fe15-4cde-adb5-49c0a2dacf04"
      },
      "execution_count": null,
      "outputs": [
        {
          "output_type": "stream",
          "name": "stdout",
          "text": [
            "        one       two     three\n",
            "a  0.331312  0.297102 -1.558979\n",
            "b  0.331312  0.297102 -1.558979\n",
            "c -1.454208  0.638001  0.626375\n",
            "d -1.454208  0.638001  0.626375\n",
            "e  1.152495  0.434369  1.582584\n",
            "f -0.146963  0.662048  0.408827\n",
            "g -0.146963  0.662048  0.408827\n",
            "h  2.351062 -0.085140 -0.695948\n"
          ]
        },
        {
          "output_type": "stream",
          "name": "stderr",
          "text": [
            "/tmp/ipython-input-1919822865.py:7: FutureWarning: DataFrame.fillna with 'method' is deprecated and will raise in a future version. Use obj.ffill() or obj.bfill() instead.\n",
            "  print(df.fillna(method = 'pad'))\n"
          ]
        }
      ]
    },
    {
      "cell_type": "markdown",
      "source": [
        "Step 5: Drop Missing Values"
      ],
      "metadata": {
        "id": "2hLvy6HNXJ9I"
      }
    },
    {
      "cell_type": "code",
      "source": [
        "import pandas as pd\n",
        "import numpy as np\n",
        "\n",
        "df = pd.DataFrame(np.random.randn(5, 3), index=['a', 'c', 'e', 'f', 'h'], columns = ['one', 'two', 'three'])\n",
        "\n",
        "df = df.reindex(['a', 'b', 'c', 'd', 'e', 'f', 'g', 'h'])\n",
        "print(df.dropna())\n",
        "\n"
      ],
      "metadata": {
        "colab": {
          "base_uri": "https://localhost:8080/"
        },
        "id": "a1LNHAinXP-3",
        "outputId": "ae03d2d0-342e-4087-e945-74afe5fe975e"
      },
      "execution_count": null,
      "outputs": [
        {
          "output_type": "stream",
          "name": "stdout",
          "text": [
            "        one       two     three\n",
            "a -2.114640 -2.248270 -1.359405\n",
            "c -1.208584 -0.128246 -1.085581\n",
            "e -1.173840 -1.618038 -1.155815\n",
            "f -0.079230 -1.917348 -1.228620\n",
            "h  0.337675  0.483277  1.351448\n"
          ]
        }
      ]
    },
    {
      "cell_type": "markdown",
      "source": [
        "Step 6: Replace Missing (or) Generic Values"
      ],
      "metadata": {
        "id": "uiiwuBZaYU57"
      }
    },
    {
      "cell_type": "code",
      "source": [
        "import pandas as pd\n",
        "import numpy as np\n",
        "df = pd.DataFrame({'one': [10,20,30,40,50,2000], 'two' :[1000,0,30,40,50,60]})\n",
        "print(df.replace({1000:10,2000:60}))\n"
      ],
      "metadata": {
        "colab": {
          "base_uri": "https://localhost:8080/"
        },
        "id": "Aef1Vg7WYk9F",
        "outputId": "4a88e886-ee9a-4c85-8f7b-d5b20770ca19"
      },
      "execution_count": null,
      "outputs": [
        {
          "output_type": "stream",
          "name": "stdout",
          "text": [
            "   one  two\n",
            "0   10   10\n",
            "1   20    0\n",
            "2   30   30\n",
            "3   40   40\n",
            "4   50   50\n",
            "5   60   60\n"
          ]
        }
      ]
    }
  ]
}